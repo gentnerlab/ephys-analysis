{
 "cells": [
  {
   "cell_type": "code",
   "execution_count": 1,
   "metadata": {
    "collapsed": true
   },
   "outputs": [],
   "source": [
    "import numpy as np\n",
    "import scipy as sp\n",
    "import matplotlib.pyplot as plt\n",
    "import os\n",
    "import sys\n",
    "from ephys import core, events, rasters\n",
    "from neuraltda import topology"
   ]
  },
  {
   "cell_type": "code",
   "execution_count": 8,
   "metadata": {
    "collapsed": true
   },
   "outputs": [],
   "source": [
    "reload(topology)\n",
    "block_path = '/home/brad/cube/Ice/kperks/B1087/klusta/phy040516/Pen03_Lft_AP0_ML500__Site04_Z3100__B1087_cat_P03_S04_1/'\n",
    "bdfile = '/home/brad/code/NeuralTDA/standard_good_binnings.txt'\n",
    "bin_id = 'handpicked051216'"
   ]
  },
  {
   "cell_type": "code",
   "execution_count": 3,
   "metadata": {
    "collapsed": true
   },
   "outputs": [],
   "source": [
    "spikes     = core.load_spikes(block_path)\n",
    "clusters   = core.load_clusters(block_path)\n",
    "trials     = events.load_trials(block_path)\n",
    "fs         = core.load_fs(block_path)\n",
    "rec        = 0 \n",
    "kwikfile = core.find_kwik(block_path)"
   ]
  },
  {
   "cell_type": "code",
   "execution_count": 4,
   "metadata": {
    "collapsed": true
   },
   "outputs": [],
   "source": [
    "cluster_list = [2, 3, 4, 5, 7, 8,9,12, 13, 14,16,18, 19, 20, 21, 22, \n",
    "               25, 28, 30, 31, 32, 37, 38, 40, 41, 43, 44, 45, 46, 50, 53, \n",
    "               54, 57, 58, 60, 63, 65, 69, 70, 72, 73, 74, 75, 76, 78, 80, \n",
    "               81, 82, 83]"
   ]
  },
  {
   "cell_type": "code",
   "execution_count": 5,
   "metadata": {
    "collapsed": false
   },
   "outputs": [],
   "source": [
    "clu_to_analyze = clusters[clusters['cluster'].isin(cluster_list)]\n",
    "spikes_to_analyze = spikes[spikes['cluster'].isin(cluster_list)]"
   ]
  },
  {
   "cell_type": "code",
   "execution_count": 9,
   "metadata": {
    "collapsed": false
   },
   "outputs": [
    {
     "name": "stdout",
     "output_type": "stream",
     "text": [
      "Binning data into good_50ms_stim.binned\n",
      "Done\n",
      "Binning data into good_100ms_stim.binned\n",
      "Done\n",
      "Binning data into good_150ms_stim.binned\n",
      "Done\n",
      "Binning data into good_200ms_stim.binned\n",
      "Done\n",
      "Binning data into good_25ms_stim.binned\n",
      "Done\n",
      "Binning data into good_50ms_prestim.binned\n",
      "Done\n",
      "Binning data into good_100ms_prestim.binned\n",
      "Done\n",
      "Binning data into good_150ms_prestim.binned\n",
      "Done\n",
      "Binning data into good_200ms_prestim.binned\n",
      "Done\n",
      "Binning data into good_25ms_prestim.binned\n",
      "Done\n"
     ]
    }
   ],
   "source": [
    "topology.do_bin_data(block_path, spikes_to_analyze, clu_to_analyze, trials, fs, kwikfile, bdfile, bin_id)"
   ]
  },
  {
   "cell_type": "code",
   "execution_count": null,
   "metadata": {
    "collapsed": true
   },
   "outputs": [],
   "source": []
  }
 ],
 "metadata": {
  "kernelspec": {
   "display_name": "Python 2",
   "language": "python",
   "name": "python2"
  },
  "language_info": {
   "codemirror_mode": {
    "name": "ipython",
    "version": 2
   },
   "file_extension": ".py",
   "mimetype": "text/x-python",
   "name": "python",
   "nbconvert_exporter": "python",
   "pygments_lexer": "ipython2",
   "version": "2.7.11"
  }
 },
 "nbformat": 4,
 "nbformat_minor": 0
}
